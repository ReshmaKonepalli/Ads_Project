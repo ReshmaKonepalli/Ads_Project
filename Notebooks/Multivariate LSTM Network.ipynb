{
 "cells": [
  {
   "cell_type": "code",
   "execution_count": 1,
   "metadata": {
    "collapsed": true
   },
   "outputs": [
    {
     "name": "stderr",
     "output_type": "stream",
     "text": [
      "Using TensorFlow backend.\n"
     ]
    }
   ],
   "source": [
    "from datetime import datetime\n",
    "import numpy as np\n",
    "import numpy as numpy\n",
    "import pandas as pd\n",
    "import pylab\n",
    "import calendar\n",
    "from scipy import stats\n",
    "import seaborn as sns\n",
    "from sklearn import model_selection, preprocessing\n",
    "from scipy.stats import kendalltau\n",
    "from sklearn.metrics import mean_squared_error\n",
    "import warnings\n",
    "import matplotlib.pyplot as plt\n",
    "import pandas\n",
    "## Keras comes here\n",
    "from keras.models import Sequential\n",
    "from keras.layers import Dense\n",
    "from keras.layers import LSTM\n",
    "from keras.layers import Dropout, BatchNormalization\n",
    "from keras.layers.advanced_activations import PReLU\n",
    "from keras.optimizers import Adam\n",
    "from keras.wrappers.scikit_learn import KerasRegressor\n",
    "from keras import callbacks\n",
    "from keras.callbacks import ModelCheckpoint\n",
    "\n",
    "from sklearn.model_selection import cross_val_score\n",
    "from sklearn.model_selection import KFold\n",
    "from sklearn.preprocessing import MinMaxScaler\n",
    "from sklearn.pipeline import Pipeline\n",
    "from sklearn.preprocessing import LabelEncoder"
   ]
  },
  {
   "cell_type": "code",
   "execution_count": 2,
   "metadata": {},
   "outputs": [
    {
     "name": "stdout",
     "output_type": "stream",
     "text": [
      "Loading train, prop and sample data\n"
     ]
    },
    {
     "name": "stderr",
     "output_type": "stream",
     "text": [
      "/anaconda3/lib/python3.6/site-packages/IPython/core/interactiveshell.py:2728: DtypeWarning: Columns (22,32,34,49,55) have mixed types. Specify dtype option on import or set low_memory=False.\n",
      "  interactivity=interactivity, compiler=compiler, result=result)\n"
     ]
    }
   ],
   "source": [
    "print('Loading train, prop and sample data')\n",
    "train = pd.read_csv(\"/Users/vicky/Documents/kaggle_data/train_2016_v2.csv\", parse_dates=[\"transactiondate\"])\n",
    "prop = pd.read_csv('/Users/vicky/Documents/kaggle_data/properties 2016.csv')\n",
    "sample = pd.read_csv('/Users/vicky/Documents/kaggle_data/sample_submission.csv')"
   ]
  },
  {
   "cell_type": "code",
   "execution_count": 3,
   "metadata": {},
   "outputs": [
    {
     "name": "stdout",
     "output_type": "stream",
     "text": [
      "Fitting Label Encoder on properties\n"
     ]
    }
   ],
   "source": [
    "\n",
    "print('Fitting Label Encoder on properties')\n",
    "for c in prop.columns:\n",
    "    prop[c]=prop[c].fillna(-1)\n",
    "    if prop[c].dtype == 'object':\n",
    "        lbl = LabelEncoder()\n",
    "        lbl.fit(list(prop[c].values))\n",
    "        prop[c] = lbl.transform(list(prop[c].values))"
   ]
  },
  {
   "cell_type": "code",
   "execution_count": 4,
   "metadata": {},
   "outputs": [
    {
     "name": "stdout",
     "output_type": "stream",
     "text": [
      "Creating training set:\n"
     ]
    }
   ],
   "source": [
    "print('Creating training set:')\n",
    "df_train = train.merge(prop, how='left', on='parcelid')\n"
   ]
  },
  {
   "cell_type": "code",
   "execution_count": 8,
   "metadata": {},
   "outputs": [],
   "source": [
    "df_train[\"transactiondate\"] = pd.to_datetime(df_train[\"transactiondate\"])\n",
    "df_train['transactiondate_quarter'] = df_train['transactiondate'].dt.quarter\n",
    "\n",
    "basedate = pd.to_datetime('2015-11-15').toordinal()\n",
    "df_train['cos_season'] = \\\n",
    "        ( (pd.to_datetime(df_train['transactiondate']).apply(lambda x: x.toordinal()-basedate)) * \\\n",
    "          (2*np.pi/365.25) ).apply(np.cos)\n",
    "df_train['sin_season'] = \\\n",
    "        ( (pd.to_datetime(df_train['transactiondate']).apply(lambda x: x.toordinal()-basedate)) * \\\n",
    "          (2*np.pi/365.25) ).apply(np.sin)\n",
    "df_train = df_train.drop(['parcelid', 'transactiondate', 'propertyzoningdesc', 'propertycountylandusecode',\n",
    "                             'fireplacecnt', 'fireplaceflag'], axis=1)"
   ]
  },
  {
   "cell_type": "code",
   "execution_count": 9,
   "metadata": {},
   "outputs": [],
   "source": [
    "def series_to_supervised(data, n_in=1, n_out=1, dropnan=True):\n",
    "\tn_vars = 1 if type(data) is list else data.shape[1]\n",
    "\tdf = pd.DataFrame(data)\n",
    "\tcols, names = list(), list()\n",
    "\t# input sequence (t-n, ... t-1)\n",
    "\tfor i in range(n_in, 0, -1):\n",
    "\t\tcols.append(df.shift(i))\n",
    "\t\tnames += [('var%d(t-%d)' % (j+1, i)) for j in range(n_vars)]\n",
    "\t# forecast sequence (t, t+1, ... t+n)\n",
    "\tfor i in range(0, n_out):\n",
    "\t\tcols.append(df.shift(-i))\n",
    "\t\tif i == 0:\n",
    "\t\t\tnames += [('var%d(t)' % (j+1)) for j in range(n_vars)]\n",
    "\t\telse:\n",
    "\t\t\tnames += [('var%d(t+%d)' % (j+1, i)) for j in range(n_vars)]\n",
    "\t# put it all together\n",
    "\tagg = pd.concat(cols, axis=1)\n",
    "\tagg.columns = names\n",
    "\t# drop rows with NaN values\n",
    "\tif dropnan:\n",
    "\t\tagg.dropna(inplace=True)\n",
    "\treturn agg"
   ]
  },
  {
   "cell_type": "code",
   "execution_count": 10,
   "metadata": {},
   "outputs": [],
   "source": [
    "Values = df_train.values\n",
    "#test_values = df_test.values\n",
    "values = Values.astype('float32')\n",
    "#test_values = test_values.astype('float32')\n",
    "scaler = MinMaxScaler(feature_range=(0, 1))\n",
    "scaled = scaler.fit_transform(values)\n",
    "#scaled_test = scaler.fit_transform(test_values)\n",
    "reframed = series_to_supervised(scaled, 1, 1)\n",
    "#reframed_test = series_to_supervised(scaled,1,1)\n",
    "reframed.drop(reframed.columns[58:116], axis=1, inplace=True)\n",
    "\n",
    "train_X, train_Y = reframed.iloc[:80000,:-1], reframed.iloc[:80000,-1]\n",
    "test_X, test_Y = reframed.iloc[80000:,:-1], reframed.iloc[80000:,-1]\n",
    "\n",
    "train_X = np.array(train_X)\n",
    "train_Y = np.array(train_Y)\n",
    "test_X = np.array(test_X)\n",
    "test_Y = np.array(test_Y)"
   ]
  },
  {
   "cell_type": "code",
   "execution_count": 11,
   "metadata": {},
   "outputs": [
    {
     "name": "stdout",
     "output_type": "stream",
     "text": [
      "(80000, 1, 57) (80000,) (10274, 1, 57) (10274,)\n"
     ]
    }
   ],
   "source": [
    "train_X = train_X.reshape((train_X.shape[0], 1, train_X.shape[1]))\n",
    "test_X = test_X.reshape((test_X.shape[0], 1, test_X.shape[1]))\n",
    "print(train_X.shape, train_Y.shape, test_X.shape, test_Y.shape)"
   ]
  },
  {
   "cell_type": "code",
   "execution_count": 12,
   "metadata": {},
   "outputs": [
    {
     "name": "stdout",
     "output_type": "stream",
     "text": [
      "Train on 80000 samples, validate on 10274 samples\n",
      "Epoch 1/50\n",
      " - 6s - loss: 0.0128 - val_loss: 0.0439\n",
      "Epoch 2/50\n",
      " - 5s - loss: 0.0088 - val_loss: 0.0414\n",
      "Epoch 3/50\n",
      " - 5s - loss: 0.0083 - val_loss: 0.0380\n",
      "Epoch 4/50\n",
      " - 6s - loss: 0.0081 - val_loss: 0.0333\n",
      "Epoch 5/50\n",
      " - 6s - loss: 0.0080 - val_loss: 0.0282\n",
      "Epoch 6/50\n",
      " - 6s - loss: 0.0079 - val_loss: 0.0238\n",
      "Epoch 7/50\n",
      " - 5s - loss: 0.0078 - val_loss: 0.0192\n",
      "Epoch 8/50\n",
      " - 6s - loss: 0.0077 - val_loss: 0.0172\n",
      "Epoch 9/50\n",
      " - 6s - loss: 0.0077 - val_loss: 0.0134\n",
      "Epoch 10/50\n",
      " - 6s - loss: 0.0077 - val_loss: 0.0114\n",
      "Epoch 11/50\n",
      " - 5s - loss: 0.0076 - val_loss: 0.0103\n",
      "Epoch 12/50\n",
      " - 6s - loss: 0.0076 - val_loss: 0.0086\n",
      "Epoch 13/50\n",
      " - 6s - loss: 0.0076 - val_loss: 0.0080\n",
      "Epoch 14/50\n",
      " - 6s - loss: 0.0076 - val_loss: 0.0076\n",
      "Epoch 15/50\n",
      " - 6s - loss: 0.0076 - val_loss: 0.0075\n",
      "Epoch 16/50\n",
      " - 6s - loss: 0.0075 - val_loss: 0.0074\n",
      "Epoch 17/50\n",
      " - 5s - loss: 0.0075 - val_loss: 0.0074\n",
      "Epoch 18/50\n",
      " - 6s - loss: 0.0075 - val_loss: 0.0075\n",
      "Epoch 19/50\n",
      " - 6s - loss: 0.0075 - val_loss: 0.0074\n",
      "Epoch 20/50\n",
      " - 6s - loss: 0.0075 - val_loss: 0.0075\n",
      "Epoch 21/50\n",
      " - 6s - loss: 0.0075 - val_loss: 0.0074\n",
      "Epoch 22/50\n",
      " - 6s - loss: 0.0075 - val_loss: 0.0076\n",
      "Epoch 23/50\n",
      " - 6s - loss: 0.0075 - val_loss: 0.0075\n",
      "Epoch 24/50\n",
      " - 6s - loss: 0.0075 - val_loss: 0.0076\n",
      "Epoch 25/50\n",
      " - 6s - loss: 0.0075 - val_loss: 0.0076\n",
      "Epoch 26/50\n",
      " - 5s - loss: 0.0075 - val_loss: 0.0075\n",
      "Epoch 27/50\n",
      " - 6s - loss: 0.0075 - val_loss: 0.0075\n",
      "Epoch 28/50\n",
      " - 6s - loss: 0.0075 - val_loss: 0.0077\n",
      "Epoch 29/50\n",
      " - 5s - loss: 0.0075 - val_loss: 0.0076\n",
      "Epoch 30/50\n",
      " - 6s - loss: 0.0075 - val_loss: 0.0077\n",
      "Epoch 31/50\n",
      " - 5s - loss: 0.0075 - val_loss: 0.0076\n",
      "Epoch 32/50\n",
      " - 5s - loss: 0.0075 - val_loss: 0.0077\n",
      "Epoch 33/50\n",
      " - 6s - loss: 0.0075 - val_loss: 0.0077\n",
      "Epoch 34/50\n",
      " - 6s - loss: 0.0075 - val_loss: 0.0077\n",
      "Epoch 35/50\n",
      " - 6s - loss: 0.0075 - val_loss: 0.0078\n",
      "Epoch 36/50\n",
      " - 6s - loss: 0.0075 - val_loss: 0.0077\n",
      "Epoch 37/50\n",
      " - 5s - loss: 0.0075 - val_loss: 0.0078\n",
      "Epoch 38/50\n",
      " - 5s - loss: 0.0075 - val_loss: 0.0078\n",
      "Epoch 39/50\n",
      " - 6s - loss: 0.0075 - val_loss: 0.0078\n",
      "Epoch 40/50\n",
      " - 6s - loss: 0.0075 - val_loss: 0.0079\n",
      "Epoch 41/50\n",
      " - 5s - loss: 0.0075 - val_loss: 0.0079\n",
      "Epoch 42/50\n",
      " - 6s - loss: 0.0075 - val_loss: 0.0079\n",
      "Epoch 43/50\n",
      " - 5s - loss: 0.0075 - val_loss: 0.0081\n",
      "Epoch 44/50\n",
      " - 6s - loss: 0.0075 - val_loss: 0.0080\n",
      "Epoch 45/50\n",
      " - 6s - loss: 0.0074 - val_loss: 0.0082\n",
      "Epoch 46/50\n",
      " - 6s - loss: 0.0074 - val_loss: 0.0082\n",
      "Epoch 47/50\n",
      " - 6s - loss: 0.0075 - val_loss: 0.0079\n",
      "Epoch 48/50\n",
      " - 6s - loss: 0.0074 - val_loss: 0.0082\n",
      "Epoch 49/50\n",
      " - 6s - loss: 0.0074 - val_loss: 0.0080\n",
      "Epoch 50/50\n",
      " - 5s - loss: 0.0074 - val_loss: 0.0080\n",
      "Test RMSE: 0.154\n"
     ]
    }
   ],
   "source": [
    "model = Sequential()\n",
    "model.add(LSTM(50, input_shape=(train_X.shape[1], train_X.shape[2])))\n",
    "model.add(Dense(1))\n",
    "model.compile(loss='mae', optimizer='adam')\n",
    "# fit network\n",
    "model.fit(train_X, train_Y, epochs=50, batch_size=72, validation_data=(test_X, test_Y), verbose=2, shuffle=False)\n",
    "yhat = model.predict(test_X)\n",
    "test_X = test_X.reshape((test_X.shape[0], test_X.shape[2]))\n",
    "inv_yhat = np.concatenate((yhat, test_X[:, 1:]), axis=1)\n",
    "inv_yhat = scaler.inverse_transform(inv_yhat)\n",
    "inv_yhat = inv_yhat[:,0]\n",
    "test_y = test_Y.reshape((len(test_Y), 1))\n",
    "inv_y = np.concatenate((test_y, test_X[:, 1:]), axis=1)\n",
    "inv_y = scaler.inverse_transform(inv_y)\n",
    "inv_y = inv_y[:,0]\n",
    "rmse = np.sqrt(mean_squared_error(inv_y, inv_yhat))\n",
    "print('Test RMSE: %.3f' % rmse)"
   ]
  },
  {
   "cell_type": "code",
   "execution_count": null,
   "metadata": {},
   "outputs": [],
   "source": []
  }
 ],
 "metadata": {
  "kernelspec": {
   "display_name": "Python 3",
   "language": "python",
   "name": "python3"
  },
  "language_info": {
   "codemirror_mode": {
    "name": "ipython",
    "version": 3
   },
   "file_extension": ".py",
   "mimetype": "text/x-python",
   "name": "python",
   "nbconvert_exporter": "python",
   "pygments_lexer": "ipython3",
   "version": "3.6.5"
  }
 },
 "nbformat": 4,
 "nbformat_minor": 1
}
